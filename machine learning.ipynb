{
 "cells": [
  {
   "cell_type": "code",
   "execution_count": 1,
   "id": "8b9409b2-b0ae-4523-a851-51bfafd728f8",
   "metadata": {},
   "outputs": [
    {
     "name": "stdout",
     "output_type": "stream",
     "text": [
      "hi\n"
     ]
    }
   ],
   "source": [
    "print(\"hi\")"
   ]
  },
  {
   "cell_type": "code",
   "execution_count": 2,
   "id": "70e1f114-ce43-4880-90af-74f37807d887",
   "metadata": {},
   "outputs": [],
   "source": [
    "f = open('untitled.txt')"
   ]
  },
  {
   "cell_type": "code",
   "execution_count": 3,
   "id": "02122074-70f5-444d-8862-6d37250f956c",
   "metadata": {},
   "outputs": [
    {
     "data": {
      "text/plain": [
       "''"
      ]
     },
     "execution_count": 3,
     "metadata": {},
     "output_type": "execute_result"
    }
   ],
   "source": [
    "read=f.read()\n",
    "read"
   ]
  },
  {
   "cell_type": "code",
   "execution_count": 4,
   "id": "de309788-fd76-4098-90ee-cfcb16cd36a6",
   "metadata": {},
   "outputs": [
    {
     "data": {
      "text/plain": [
       "''"
      ]
     },
     "execution_count": 4,
     "metadata": {},
     "output_type": "execute_result"
    }
   ],
   "source": [
    "read=f.read()\n",
    "read"
   ]
  },
  {
   "cell_type": "code",
   "execution_count": 5,
   "id": "ff095e73-cda9-4346-a324-8739e1ee35e2",
   "metadata": {},
   "outputs": [
    {
     "data": {
      "text/plain": [
       "'hi ravi'"
      ]
     },
     "execution_count": 5,
     "metadata": {},
     "output_type": "execute_result"
    }
   ],
   "source": [
    "read=f.read()\n",
    "read"
   ]
  },
  {
   "cell_type": "code",
   "execution_count": 1,
   "id": "fb4ac645-7cd4-40f6-b174-ff6e288f98cc",
   "metadata": {},
   "outputs": [
    {
     "data": {
      "text/plain": [
       "'/Users/bala'"
      ]
     },
     "execution_count": 1,
     "metadata": {},
     "output_type": "execute_result"
    }
   ],
   "source": [
    "pwd"
   ]
  },
  {
   "cell_type": "code",
   "execution_count": 2,
   "id": "f39ea289-4620-41fd-a29b-30726a00152c",
   "metadata": {},
   "outputs": [],
   "source": [
    "import csv"
   ]
  },
  {
   "cell_type": "code",
   "execution_count": 2,
   "id": "dc8315e5-0931-4a8c-b2c1-01d0017ca757",
   "metadata": {},
   "outputs": [],
   "source": [
    "f = open('untitled.txt')"
   ]
  },
  {
   "cell_type": "code",
   "execution_count": 3,
   "id": "ccc2d4db-5493-4bd8-9687-e9e5d970c17a",
   "metadata": {},
   "outputs": [
    {
     "data": {
      "text/plain": [
       "'hi ravi\\n### Jupyter Notebook Overview\\n\\n**Jupyter Notebook** is an open-source, interactive web application that allows users to create and share documents containing live code, equations, visualizations, and narrative text. It is widely used in fields such as data science, machine learning, scientific research, and education.\\n\\n### Key Features:\\n1. **Interactive Code Execution:**\\n   Jupyter allows users to write and execute code in real-time within a notebook cell. It supports several programming languages, but Python is the most popular. Other languages such as R, Julia, and Scala can also be used through appropriate kernels.\\n\\n2. **Rich Text Support:**\\n   You can add explanatory text, formatted in Markdown, between code blocks. This helps in creating well-documented reports or tutorials. You can also embed LaTeX for mathematical equations.\\n\\n3. **Visualization:**\\n   Jupyter integrates seamlessly with various Python libraries such as Matplotlib, Seaborn, Plotly, and more to display plots and visualizations directly within the notebook.\\n\\n4. **Export Options:**\\n   Notebooks can be exported to various formats such as HTML, PDF, and slides, making it easy to share results or present findings.\\n\\n5. **Reproducible Research:**\\n   Jupyter allows you to combine code, data, and commentary, making your analysis or research reproducible. This is valuable in scientific research and data science where transparency and reproducibility are crucial.\\n\\n6. **Modular Cells:**\\n   Code and text are organized into cells. This allows you to execute code incrementally and see results immediately, making it easier to debug and test small portions of code.\\n\\n7. **Extensions & Widgets:**\\n   Jupyter supports extensions and interactive widgets, which can enhance your notebooks with additional functionalities. For example, you can add interactive sliders, buttons, or visualizations to make your work more dynamic.\\n\\n### Popular Use Cases:\\n- **Data Science & Machine Learning:** Jupyter is extensively used for exploratory data analysis, model development, and visualization.\\n- **Education:** Its interactive format makes it ideal for teaching programming, mathematics, and data science.\\n- **Research:** It is used for documenting and sharing reproducible research workflows.\\n- **Prototyping:** Developers use Jupyter for quick prototyping of algorithms and scripts.\\n\\n### How to Use Jupyter Notebook:\\n1. **Installation:**\\n   - You can install Jupyter via the `Anaconda` distribution, which comes with Jupyter pre-installed along with many other useful libraries for data analysis.\\n   - Alternatively, you can install Jupyter using Python\\'s package manager `pip` with the command:  \\n     ```\\n     pip install notebook\\n     ```\\n\\n2. **Launching Jupyter Notebook:**\\n   Once installed, you can start the notebook server by running the command:\\n   ```\\n   jupyter notebook\\n   ```\\n   This will open the Jupyter Notebook interface in your web browser, where you can create, edit, and run notebooks.\\n\\n3. **Creating and Editing Notebooks:**\\n   You can create a new notebook from the Jupyter dashboard by clicking on \"New\" and selecting your preferred kernel (usually Python 3). From there, you can start writing code and text in cells.\\n\\n### Example of a Simple Notebook:\\n\\n```python\\n# Python code cell\\nimport numpy as np\\nimport matplotlib.pyplot as plt\\n\\nx = np.linspace(0, 10, 100)\\ny = np.sin(x)\\n\\nplt.plot(x, y)\\nplt.title(\\'Sine Wave\\')\\nplt.xlabel(\\'X\\')\\nplt.ylabel(\\'Y\\')\\nplt.show()\\n```\\n\\n```markdown\\n# Markdown Cell\\n\\nThis is a simple plot of a sine wave. The code above generates the plot, and we can add text descriptions or explanations like this one.\\n```\\n\\n### Advantages of Jupyter Notebook:\\n- **Interactivity:** Run code in cells and interact with the results immediately.\\n- **Documentation:** Combine code with rich-text explanations and visualizations for better clarity.\\n- **Flexibility:** Can handle many languages and libraries, making it a versatile tool for various applications.\\n- **Community Support:** A large user community provides many resources, tutorials, and extensions.\\n\\n### Limitations:\\n- **Versioning:** Jupyter Notebooks can become unwieldy when tracking changes in large projects. Tools like `nbdime` can help with notebook version control.\\n- **Performance:** For very large datasets or complex models, running code in Jupyter may be slower compared to other environments like a standalone script.\\n\\n### Conclusion:\\nJupyter Notebook is a powerful tool for anyone working with data and code. It bridges the gap between code and documentation, making it a popular choice for data scientists, researchers, and educators. Whether you\\'re exploring data, teaching, or presenting research, Jupyter’s flexibility and interactivity make it an essential tool in many fields.'"
      ]
     },
     "execution_count": 3,
     "metadata": {},
     "output_type": "execute_result"
    }
   ],
   "source": [
    "read=f.read()\n",
    "read"
   ]
  },
  {
   "cell_type": "code",
   "execution_count": 2,
   "id": "fe00a0fd-48d0-4aa1-8929-21e53cb223a0",
   "metadata": {},
   "outputs": [],
   "source": [
    "fw=open('sample.txt','w')\n",
    "fw.write(\"hi ravi\")\n",
    "fw.close()"
   ]
  },
  {
   "cell_type": "code",
   "execution_count": 3,
   "id": "b266b49a-de76-4f6f-a814-943d3b29d05f",
   "metadata": {},
   "outputs": [],
   "source": [
    "fw=open('sample.txt','a')\n",
    "fw.write(\"hi ravi\")\n",
    "fw.close()"
   ]
  },
  {
   "cell_type": "code",
   "execution_count": 5,
   "id": "a021e874-2b3b-4aa2-876d-cfc5b3462381",
   "metadata": {},
   "outputs": [
    {
     "data": {
      "text/plain": [
       "'hi ravihi ravi'"
      ]
     },
     "execution_count": 5,
     "metadata": {},
     "output_type": "execute_result"
    }
   ],
   "source": [
    "fw=open('sample.txt','r')\n",
    "fw.read()\n"
   ]
  },
  {
   "cell_type": "code",
   "execution_count": 6,
   "id": "a6ffb0ba-e789-4b19-aa4f-ab16eea0d25c",
   "metadata": {},
   "outputs": [
    {
     "ename": "NameError",
     "evalue": "name 'text' is not defined",
     "output_type": "error",
     "traceback": [
      "\u001b[0;31m---------------------------------------------------------------------------\u001b[0m",
      "\u001b[0;31mNameError\u001b[0m                                 Traceback (most recent call last)",
      "Cell \u001b[0;32mIn[6], line 4\u001b[0m\n\u001b[1;32m      2\u001b[0m fw\u001b[38;5;241m.\u001b[39mread()\n\u001b[1;32m      3\u001b[0m fw\u001b[38;5;241m.\u001b[39mclose()\n\u001b[0;32m----> 4\u001b[0m \u001b[43mtext\u001b[49m\n",
      "\u001b[0;31mNameError\u001b[0m: name 'text' is not defined"
     ]
    }
   ],
   "source": [
    "fw=open('sample.txt','r')\n",
    "fw.read()\n",
    "fw.close()\n",
    "text"
   ]
  },
  {
   "cell_type": "code",
   "execution_count": null,
   "id": "10a64a3f-be04-4a56-a048-7d84ec6677f1",
   "metadata": {},
   "outputs": [],
   "source": []
  }
 ],
 "metadata": {
  "kernelspec": {
   "display_name": "Python 3 (ipykernel)",
   "language": "python",
   "name": "python3"
  },
  "language_info": {
   "codemirror_mode": {
    "name": "ipython",
    "version": 3
   },
   "file_extension": ".py",
   "mimetype": "text/x-python",
   "name": "python",
   "nbconvert_exporter": "python",
   "pygments_lexer": "ipython3",
   "version": "3.13.0"
  }
 },
 "nbformat": 4,
 "nbformat_minor": 5
}
